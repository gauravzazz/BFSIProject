{
  "nbformat": 4,
  "nbformat_minor": 0,
  "metadata": {
    "colab": {
      "name": "Trading Bot",
      "private_outputs": true,
      "provenance": [],
      "authorship_tag": "ABX9TyP0GOG90DdRUIpxR5Fb7RQ9",
      "include_colab_link": true
    },
    "kernelspec": {
      "name": "python3",
      "display_name": "Python 3"
    },
    "language_info": {
      "name": "python"
    },
    "accelerator": "TPU"
  },
  "cells": [
    {
      "cell_type": "markdown",
      "metadata": {
        "id": "view-in-github",
        "colab_type": "text"
      },
      "source": [
        "<a href=\"https://colab.research.google.com/github/gauravzazz/TradingBot/blob/Technical-Analysis/Trading_Bot.ipynb\" target=\"_parent\"><img src=\"https://colab.research.google.com/assets/colab-badge.svg\" alt=\"Open In Colab\"/></a>"
      ]
    },
    {
      "cell_type": "markdown",
      "metadata": {
        "id": "PwxUWiS8UGfD"
      },
      "source": [
        "**API_KEY : JKB1UXWCJFOMK7KZ**"
      ]
    },
    {
      "cell_type": "code",
      "metadata": {
        "id": "P0cQlxC7UOrq"
      },
      "source": [
        "pip install alpha_vantage"
      ],
      "execution_count": null,
      "outputs": []
    },
    {
      "cell_type": "code",
      "metadata": {
        "id": "NDpJBdjNZaOU"
      },
      "source": [
        "import matplotlib.pyplot as plt\n",
        "from alpha_vantage.timeseries import TimeSeries\n",
        "import requests"
      ],
      "execution_count": null,
      "outputs": []
    },
    {
      "cell_type": "markdown",
      "metadata": {
        "id": "u4P17h4MWRBj"
      },
      "source": [
        "**Getting real time data **"
      ]
    },
    {
      "cell_type": "code",
      "metadata": {
        "id": "kt8eFuCeUpkb"
      },
      "source": [
        "def getData(symbol):\n",
        "  api_key = 'JKB1UXWCJFOMK7KZ'\n",
        "  ts = TimeSeries(api_key, output_format='pandas')\n",
        "  data, meta = ts.get_intraday(symbol, interval='1min', outputsize='full')\n",
        "  columns = ['OPEN', 'HIGH', 'LOW', 'CLOSE', 'VOLUME']\n",
        "  data.columns = columns\n",
        "  data['DATE'] = data.index.date\n",
        "  data['TIME'] = data.index.time\n",
        "  return data\n",
        "  \n",
        "df= getData('TSLA')\n",
        "type(df)\n"
      ],
      "execution_count": null,
      "outputs": []
    },
    {
      "cell_type": "markdown",
      "metadata": {
        "id": "rVorTkjhlSbs"
      },
      "source": [
        "**Technical Analysis**"
      ]
    }
  ]
}